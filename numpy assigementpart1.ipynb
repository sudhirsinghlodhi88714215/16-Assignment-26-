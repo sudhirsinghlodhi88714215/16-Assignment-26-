{
 "cells": [
  {
   "cell_type": "code",
   "execution_count": null,
   "id": "832778ea-715d-4ee1-a258-a0b3c6bb953c",
   "metadata": {},
   "outputs": [],
   "source": [
    "import numpy as np\n",
    "\n",
    "list_ = [ ‘1’ , ’2’ , ‘3’ , ‘4’ , ‘5’ ]\n",
    "array_list = np.array(object = list_)\n"
   ]
  },
  {
   "cell_type": "code",
   "execution_count": null,
   "id": "d5b2e85c-ec82-4c64-93a5-a2fd82c57626",
   "metadata": {},
   "outputs": [],
   "source": [
    "Q1. Is there any difference in the data type of variables list_ and array_list? If there is then write a code\n",
    "to print the data types of both the variables."
   ]
  },
  {
   "cell_type": "code",
   "execution_count": 1,
   "id": "9abbee73-59b3-4f25-be55-6aea145d331d",
   "metadata": {},
   "outputs": [],
   "source": [
    "import numpy as np"
   ]
  },
  {
   "cell_type": "code",
   "execution_count": null,
   "id": "5314a3fe-fd70-417e-a7b6-09b4d3e4858c",
   "metadata": {},
   "outputs": [],
   "source": []
  },
  {
   "cell_type": "code",
   "execution_count": 15,
   "id": "17a33926-5373-4b22-a431-e3dbf4cc03b9",
   "metadata": {},
   "outputs": [],
   "source": [
    "l = ([ '1','2','3', '4','5'],)\n"
   ]
  },
  {
   "cell_type": "code",
   "execution_count": 16,
   "id": "fe5a070c-f4b0-4099-be34-44159fd0ebf2",
   "metadata": {},
   "outputs": [
    {
     "data": {
      "text/plain": [
       "array([['1', '2', '3', '4', '5']], dtype='<U1')"
      ]
     },
     "execution_count": 16,
     "metadata": {},
     "output_type": "execute_result"
    }
   ],
   "source": [
    " np.array(object = l)"
   ]
  },
  {
   "cell_type": "code",
   "execution_count": 27,
   "id": "baf3f5c1-00eb-4187-96c3-f4f2e7051a8c",
   "metadata": {},
   "outputs": [],
   "source": [
    "ar =  np.array(l)"
   ]
  },
  {
   "cell_type": "code",
   "execution_count": 28,
   "id": "014c570f-a291-4bd1-9b3e-338c22630365",
   "metadata": {},
   "outputs": [
    {
     "data": {
      "text/plain": [
       "array([['1', '2', '3', '4', '5']], dtype='<U1')"
      ]
     },
     "execution_count": 28,
     "metadata": {},
     "output_type": "execute_result"
    }
   ],
   "source": [
    "ar"
   ]
  },
  {
   "cell_type": "code",
   "execution_count": 29,
   "id": "d40ed987-d902-4a1a-b5b3-50fba7bbd65d",
   "metadata": {},
   "outputs": [
    {
     "data": {
      "text/plain": [
       "numpy.ndarray"
      ]
     },
     "execution_count": 29,
     "metadata": {},
     "output_type": "execute_result"
    }
   ],
   "source": [
    "type(ar)"
   ]
  },
  {
   "cell_type": "code",
   "execution_count": 45,
   "id": "16480fe9-02c5-4d46-bac1-92c19ed3664a",
   "metadata": {},
   "outputs": [],
   "source": [
    "l =([('sudhir','lodhi','singh',)])"
   ]
  },
  {
   "cell_type": "code",
   "execution_count": 46,
   "id": "202764d8-3255-4832-822e-f5f8ccfbce76",
   "metadata": {},
   "outputs": [
    {
     "data": {
      "text/plain": [
       "array([['sudhir', 'lodhi', 'singh']], dtype='<U6')"
      ]
     },
     "execution_count": 46,
     "metadata": {},
     "output_type": "execute_result"
    }
   ],
   "source": [
    "np.asanyarray(l)"
   ]
  },
  {
   "cell_type": "code",
   "execution_count": 51,
   "id": "c6340b14-6c98-4cee-b329-5664f8d4e3d9",
   "metadata": {},
   "outputs": [],
   "source": [
    "l=np.array(l)"
   ]
  },
  {
   "cell_type": "code",
   "execution_count": 52,
   "id": "8908883d-d4f7-4656-bfd2-6cddc97b8a54",
   "metadata": {},
   "outputs": [
    {
     "data": {
      "text/plain": [
       "dtype('<U6')"
      ]
     },
     "execution_count": 52,
     "metadata": {},
     "output_type": "execute_result"
    }
   ],
   "source": [
    "l.dtype"
   ]
  },
  {
   "cell_type": "code",
   "execution_count": 32,
   "id": "7ce207d4-c9f7-40b6-89e3-eb39bc622487",
   "metadata": {},
   "outputs": [],
   "source": [
    "l1=[1,2,3,4,5,6]"
   ]
  },
  {
   "cell_type": "code",
   "execution_count": 33,
   "id": "e4e5f3ee-ddf8-402e-a540-444a3d0d6922",
   "metadata": {},
   "outputs": [
    {
     "data": {
      "text/plain": [
       "array([1, 2, 3, 4, 5, 6])"
      ]
     },
     "execution_count": 33,
     "metadata": {},
     "output_type": "execute_result"
    }
   ],
   "source": [
    "np.array(l)"
   ]
  },
  {
   "cell_type": "code",
   "execution_count": 34,
   "id": "5de07883-6e1d-47f1-83bf-a29d483670d4",
   "metadata": {},
   "outputs": [],
   "source": [
    "s=np.array(l1)"
   ]
  },
  {
   "cell_type": "code",
   "execution_count": 36,
   "id": "3ad0a55e-c5c3-44a0-97a7-dc7a4f7ddfea",
   "metadata": {},
   "outputs": [
    {
     "data": {
      "text/plain": [
       "dtype('int64')"
      ]
     },
     "execution_count": 36,
     "metadata": {},
     "output_type": "execute_result"
    }
   ],
   "source": [
    "s.dtype"
   ]
  },
  {
   "cell_type": "code",
   "execution_count": 37,
   "id": "a13596af-c57a-4481-afd0-76f567ce8428",
   "metadata": {},
   "outputs": [
    {
     "data": {
      "text/plain": [
       "array([[2.3, 3.2, 2. ],\n",
       "       [2.1, 5.3, 8. ]])"
      ]
     },
     "execution_count": 37,
     "metadata": {},
     "output_type": "execute_result"
    }
   ],
   "source": [
    "np.array([(2.3,3.2,2),(2.1,5.3,8)])"
   ]
  },
  {
   "cell_type": "code",
   "execution_count": 38,
   "id": "4280821c-ca28-4120-8cc2-6771eedb4cf4",
   "metadata": {},
   "outputs": [],
   "source": [
    "l2 =np.array([(2.3,3.2,2),(2.1,5.3,8)])"
   ]
  },
  {
   "cell_type": "code",
   "execution_count": 40,
   "id": "70a7a3f5-607c-4485-b115-2c0e105f526b",
   "metadata": {},
   "outputs": [
    {
     "data": {
      "text/plain": [
       "dtype('float64')"
      ]
     },
     "execution_count": 40,
     "metadata": {},
     "output_type": "execute_result"
    }
   ],
   "source": [
    "l2.dtype"
   ]
  },
  {
   "cell_type": "code",
   "execution_count": null,
   "id": "f463c231-2d7a-417a-8a2e-d8ef86a0e7fe",
   "metadata": {},
   "outputs": [],
   "source": [
    "Q4. Write a code to find the following characteristics of variable, num_array:\n",
    "(i) shape\n",
    "(ii) size"
   ]
  },
  {
   "cell_type": "code",
   "execution_count": null,
   "id": "d840c018-f8ee-42cf-995a-8a71c63ed9df",
   "metadata": {},
   "outputs": [],
   "source": [
    "(1) Shape -"
   ]
  },
  {
   "cell_type": "code",
   "execution_count": 1,
   "id": "4314168f-fd49-4bc4-bdd5-a2fb5275bdd0",
   "metadata": {},
   "outputs": [],
   "source": [
    "import  numpy  as np"
   ]
  },
  {
   "cell_type": "code",
   "execution_count": 3,
   "id": "3f040ff3-6b96-4e0d-9c7c-2a1bc63a7a3d",
   "metadata": {},
   "outputs": [
    {
     "data": {
      "text/plain": [
       "array(['sudhir', 'singh]', 'lodhi', 'bhsi'], dtype='<U6')"
      ]
     },
     "execution_count": 3,
     "metadata": {},
     "output_type": "execute_result"
    }
   ],
   "source": [
    "np.array(['sudhir','singh]','lodhi','bhsi',])"
   ]
  },
  {
   "cell_type": "code",
   "execution_count": 9,
   "id": "f0e78cb6-3c09-4e29-ac12-ab7e01a431ee",
   "metadata": {},
   "outputs": [],
   "source": [
    "ar = np.array([['sudhir','singh]','lodhi','bhsi',]])"
   ]
  },
  {
   "cell_type": "code",
   "execution_count": 10,
   "id": "9194271c-ed33-4b92-ac78-4361eaf46d41",
   "metadata": {},
   "outputs": [
    {
     "data": {
      "text/plain": [
       "array([['sudhir', 'singh]', 'lodhi', 'bhsi']], dtype='<U6')"
      ]
     },
     "execution_count": 10,
     "metadata": {},
     "output_type": "execute_result"
    }
   ],
   "source": [
    "ar"
   ]
  },
  {
   "cell_type": "code",
   "execution_count": 11,
   "id": "42c5eb56-3af4-4133-8b88-67ddfdff4e35",
   "metadata": {},
   "outputs": [
    {
     "data": {
      "text/plain": [
       "(1, 4)"
      ]
     },
     "execution_count": 11,
     "metadata": {},
     "output_type": "execute_result"
    }
   ],
   "source": [
    "ar.shape"
   ]
  },
  {
   "cell_type": "code",
   "execution_count": null,
   "id": "d1e0a71f-fc10-42fe-876a-a6ea67f9ee81",
   "metadata": {},
   "outputs": [],
   "source": [
    "(2) Size _"
   ]
  },
  {
   "cell_type": "code",
   "execution_count": 13,
   "id": "4a2322a6-568b-4b11-bd08-5e69c36497f4",
   "metadata": {},
   "outputs": [
    {
     "data": {
      "text/plain": [
       "array([['sudhir', 'singh]', 'lodhi', 'bhsi']], dtype='<U6')"
      ]
     },
     "execution_count": 13,
     "metadata": {},
     "output_type": "execute_result"
    }
   ],
   "source": [
    "ar"
   ]
  },
  {
   "cell_type": "code",
   "execution_count": 14,
   "id": "1c4cadf9-05c6-49c5-90d0-864ecd307d5f",
   "metadata": {},
   "outputs": [
    {
     "data": {
      "text/plain": [
       "4"
      ]
     },
     "execution_count": 14,
     "metadata": {},
     "output_type": "execute_result"
    }
   ],
   "source": [
    "ar.size"
   ]
  },
  {
   "cell_type": "code",
   "execution_count": null,
   "id": "6f55efd9-6996-45b2-adaa-c4134e566d07",
   "metadata": {},
   "outputs": [],
   "source": [
    "Q5. Write a code to create numpy array of 3*3 matrix containing zeros only, using a numpy array\n",
    "creation function.\n",
    "                  [Hint: The size of the array will be 9 and the shape will be (3,3).]"
   ]
  },
  {
   "cell_type": "code",
   "execution_count": 17,
   "id": "98fbb905-edd7-45c9-8928-e4517af04190",
   "metadata": {},
   "outputs": [],
   "source": [
    "import numpy as np"
   ]
  },
  {
   "cell_type": "code",
   "execution_count": 20,
   "id": "301ade6a-8381-4a83-a6cd-e1ec42b7013d",
   "metadata": {},
   "outputs": [
    {
     "data": {
      "text/plain": [
       "array([[0., 0., 0.],\n",
       "       [0., 0., 0.],\n",
       "       [0., 0., 0.]])"
      ]
     },
     "execution_count": 20,
     "metadata": {},
     "output_type": "execute_result"
    }
   ],
   "source": [
    "np.zeros((3,3,))"
   ]
  },
  {
   "cell_type": "code",
   "execution_count": 21,
   "id": "48791105-0728-436b-9e8b-bb14968369de",
   "metadata": {},
   "outputs": [],
   "source": [
    "arr = np.zeros((3,3,))"
   ]
  },
  {
   "cell_type": "code",
   "execution_count": 22,
   "id": "68b58b51-87d8-4e8d-a8f8-ee86380c8717",
   "metadata": {},
   "outputs": [
    {
     "data": {
      "text/plain": [
       "array([[0., 0., 0.],\n",
       "       [0., 0., 0.],\n",
       "       [0., 0., 0.]])"
      ]
     },
     "execution_count": 22,
     "metadata": {},
     "output_type": "execute_result"
    }
   ],
   "source": [
    "arr"
   ]
  },
  {
   "cell_type": "code",
   "execution_count": 23,
   "id": "31d21302-ddab-4c70-94ff-d2ad91e77235",
   "metadata": {},
   "outputs": [
    {
     "data": {
      "text/plain": [
       "9"
      ]
     },
     "execution_count": 23,
     "metadata": {},
     "output_type": "execute_result"
    }
   ],
   "source": [
    "arr.size"
   ]
  },
  {
   "cell_type": "code",
   "execution_count": 24,
   "id": "75aa4911-2531-4002-a523-f1c9b2d6d732",
   "metadata": {},
   "outputs": [
    {
     "data": {
      "text/plain": [
       "(3, 3)"
      ]
     },
     "execution_count": 24,
     "metadata": {},
     "output_type": "execute_result"
    }
   ],
   "source": [
    "arr.shape"
   ]
  },
  {
   "cell_type": "code",
   "execution_count": null,
   "id": "41f6555d-94f7-4bc6-9580-10ff4ec9c5ae",
   "metadata": {},
   "outputs": [],
   "source": [
    "Q6. Create an identity matrix of shape (5,5) using numpy functions?\n",
    "\n",
    "                [Hint: An identity matrix is a matrix containing 1 diagonally and other elements will be 0.]"
   ]
  },
  {
   "cell_type": "code",
   "execution_count": 32,
   "id": "e266d6c1-d3da-4316-8cc3-08e5032f2314",
   "metadata": {},
   "outputs": [
    {
     "data": {
      "text/plain": [
       "array([[0., 0., 0., 0., 0.],\n",
       "       [0., 0., 0., 0., 0.],\n",
       "       [0., 0., 0., 0., 0.],\n",
       "       [0., 0., 0., 0., 0.],\n",
       "       [0., 0., 0., 0., 0.]])"
      ]
     },
     "execution_count": 32,
     "metadata": {},
     "output_type": "execute_result"
    }
   ],
   "source": [
    "np.zeros((5,5))"
   ]
  },
  {
   "cell_type": "code",
   "execution_count": 33,
   "id": "d6ae6c91-0349-4eeb-9bc1-0f2a96de4076",
   "metadata": {},
   "outputs": [],
   "source": [
    "ar2=np.zeros((5,5))"
   ]
  },
  {
   "cell_type": "code",
   "execution_count": 35,
   "id": "4399e2e4-cd2a-410a-bd5f-d2bef3a2d394",
   "metadata": {},
   "outputs": [],
   "source": [
    "ar2[0,0] = 1"
   ]
  },
  {
   "cell_type": "code",
   "execution_count": 36,
   "id": "3a064757-be48-40d7-a5cc-9991f97e4810",
   "metadata": {},
   "outputs": [
    {
     "data": {
      "text/plain": [
       "array([[1., 0., 0., 0., 0.],\n",
       "       [0., 0., 0., 0., 0.],\n",
       "       [0., 0., 0., 0., 0.],\n",
       "       [0., 0., 0., 0., 0.],\n",
       "       [0., 0., 0., 0., 0.]])"
      ]
     },
     "execution_count": 36,
     "metadata": {},
     "output_type": "execute_result"
    }
   ],
   "source": [
    "ar2"
   ]
  },
  {
   "cell_type": "code",
   "execution_count": 37,
   "id": "1c62c3c6-f041-4267-9ef5-7faf1ea62c4b",
   "metadata": {},
   "outputs": [
    {
     "data": {
      "text/plain": [
       "(5, 5)"
      ]
     },
     "execution_count": 37,
     "metadata": {},
     "output_type": "execute_result"
    }
   ],
   "source": [
    "ar2.shape"
   ]
  },
  {
   "cell_type": "code",
   "execution_count": null,
   "id": "85a8c2a5-4cdc-4398-8924-f0261eef9881",
   "metadata": {},
   "outputs": [],
   "source": []
  }
 ],
 "metadata": {
  "kernelspec": {
   "display_name": "Python 3 (ipykernel)",
   "language": "python",
   "name": "python3"
  },
  "language_info": {
   "codemirror_mode": {
    "name": "ipython",
    "version": 3
   },
   "file_extension": ".py",
   "mimetype": "text/x-python",
   "name": "python",
   "nbconvert_exporter": "python",
   "pygments_lexer": "ipython3",
   "version": "3.10.8"
  }
 },
 "nbformat": 4,
 "nbformat_minor": 5
}
